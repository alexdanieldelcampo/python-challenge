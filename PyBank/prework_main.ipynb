{
 "cells": [
  {
   "cell_type": "code",
   "execution_count": 118,
   "metadata": {},
   "outputs": [],
   "source": [
    "import os\n",
    "import csv"
   ]
  },
  {
   "cell_type": "code",
   "execution_count": 119,
   "metadata": {},
   "outputs": [],
   "source": [
    "budget_data = os.path.join(\"Resources\", \"budget_data.csv\")"
   ]
  },
  {
   "cell_type": "code",
   "execution_count": 120,
   "metadata": {},
   "outputs": [],
   "source": [
    "total_months = 0 \n",
    "total = 0\n",
    "change = []\n",
    "\n",
    "last_chg = 0\n",
    "biggest_inc = 0\n",
    "biggest_dcr = 0\n",
    "max_month = ''\n",
    "min_month = ''"
   ]
  },
  {
   "cell_type": "code",
   "execution_count": 121,
   "metadata": {},
   "outputs": [],
   "source": [
    "with open(budget_data, 'r') as csvfile:\n",
    "    csvreader = csv.reader(csvfile, delimiter=',')\n",
    "    next(csvreader)\n",
    "    for row in csvreader:\n",
    "    \n",
    "        total_months += 1\n",
    "        total += int(row[1])\n",
    "        change.append(int(row[1]))\n",
    "        \n",
    "        # had to find a way to cycle through the csv file and store infor from the previous list.\n",
    "        if int(row[1]) - last_chg > biggest_inc:\n",
    "            biggest_inc = int(row[1]) - last_chg\n",
    "            max_month = row[0]\n",
    "        elif int(row[1]) - last_chg < biggest_dcr:\n",
    "            biggest_dcr = int(row[1]) - last_chg\n",
    "            min_month = row[0]\n",
    "        \n",
    "        # stored variable for finding the greatest increase/decrease\n",
    "        last_chg = int(row[1])\n",
    "    \n",
    "    #used this 'for loop' to find the average change bewteen all months\n",
    "    difference = [j-i for i, j in zip(change[:-1], change[1:])]\n",
    "    avg_change = round(sum(difference)/len(difference),2)\n",
    "   \n",
    "    \n",
    "    \n",
    "      "
   ]
  },
  {
   "cell_type": "code",
   "execution_count": null,
   "metadata": {},
   "outputs": [],
   "source": []
  },
  {
   "cell_type": "code",
   "execution_count": 117,
   "metadata": {},
   "outputs": [],
   "source": [
    "analysis = '/Users/Alexander/DataClass/python-challenge/PyBank/analysis/analysis.txt'\n",
    "with open(analysis, 'w') as text:\n",
    "    \n",
    "    text.write(f\"Financial Analysis \\n---------------------------- \\nTotal Months: {total_months} \\nTotal: {total} \\nAverage  Change: ${avg_change} \\nGreatest Increase in Profits: {max_month} (${biggest_inc}) \\nGreatest Decrease in Profits: {min_month} (${biggest_dcr})\")"
   ]
  },
  {
   "cell_type": "code",
   "execution_count": null,
   "metadata": {},
   "outputs": [],
   "source": []
  }
 ],
 "metadata": {
  "kernelspec": {
   "display_name": "Python 3",
   "language": "python",
   "name": "python3"
  },
  "language_info": {
   "codemirror_mode": {
    "name": "ipython",
    "version": 3
   },
   "file_extension": ".py",
   "mimetype": "text/x-python",
   "name": "python",
   "nbconvert_exporter": "python",
   "pygments_lexer": "ipython3",
   "version": "3.8.3"
  }
 },
 "nbformat": 4,
 "nbformat_minor": 4
}
